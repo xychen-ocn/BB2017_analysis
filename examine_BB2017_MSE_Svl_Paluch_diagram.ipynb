{
 "cells": [
  {
   "cell_type": "markdown",
   "id": "2e8af95f",
   "metadata": {},
   "source": [
    "### This script is used to check evolution of the Paluch diagram (Figure 15) in BB2017"
   ]
  },
  {
   "cell_type": "code",
   "execution_count": 1,
   "id": "45f52eda",
   "metadata": {},
   "outputs": [],
   "source": [
    "import numpy as np\n",
    "import xarray as xr\n",
    "import matplotlib.pyplot as plt\n",
    "import os \n",
    "from scipy import interpolate"
   ]
  },
  {
   "cell_type": "code",
   "execution_count": 2,
   "id": "3a8c9432",
   "metadata": {},
   "outputs": [],
   "source": [
    "from matplotlib import animation\n",
    "#import seaborn as sbn         # not available in the environment yet."
   ]
  },
  {
   "cell_type": "code",
   "execution_count": 3,
   "id": "8ea43313",
   "metadata": {},
   "outputs": [],
   "source": [
    "import ipywidgets as widgets"
   ]
  },
  {
   "cell_type": "code",
   "execution_count": 4,
   "id": "7d101e31",
   "metadata": {},
   "outputs": [],
   "source": [
    "%matplotlib inline"
   ]
  },
  {
   "cell_type": "code",
   "execution_count": 5,
   "id": "eb8ac488",
   "metadata": {},
   "outputs": [],
   "source": [
    "# specify the data path:\n",
    "datadir = '/data/xchen/BB2017'\n",
    "\n",
    "folder1 = 'OUT_2D'\n",
    "folder2 = 'OUT_3D'    # \n",
    "folder3 = 'OUT_STAT'  # time-varying, horizontally-averaged profiles of domain-mean quantities\n",
    "\n",
    "filename_stat = 'S6_CTL_512sqx128_250m_testf.nc'\n",
    "file_prefix = 'S6_CTL_512sqx128_250m_testf'\n",
    "#filename_3D = 'S6_CTL_MSE_512sqx128_250m_testf_0128_CONCAT.nc'\n",
    "\n",
    "\n",
    "# establish a dictionary for the filename:\n",
    "filenames=dict()\n",
    "filenames['cntrl']=file_prefix + '.nc'\n",
    "filenames['noPCP'] = file_prefix + '_noPCP.nc'\n",
    "filenames['RADhomo'] = file_prefix + '_RADhomo.nc'\n",
    "filenames['RADFLXhomo']=file_prefix + '_RADFLXhomo.nc'\n",
    "filenames['RFhomoNoPCP']=file_prefix + '_RADFLXhomo_noPCP.nc'\n",
    "filenames['WTG'] = file_prefix + '_WTG.nc'\n"
   ]
  },
  {
   "cell_type": "code",
   "execution_count": 6,
   "id": "bca0cccf",
   "metadata": {},
   "outputs": [
    {
     "name": "stdout",
     "output_type": "stream",
     "text": [
      "S6_CTL_512sqx128_250m_testf_noPCP.nc\n"
     ]
    }
   ],
   "source": [
    "# manually select a simulation case to make the evolution movie:\n",
    "testcase_label='noPCP'\n",
    "filename_stat = filenames[testcase_label]\n",
    "print(filename_stat)\n",
    "absfn = os.path.join(datadir, folder3, filename_stat)\n",
    "ds_stat = xr.open_dataset(absfn)\n"
   ]
  },
  {
   "cell_type": "code",
   "execution_count": 7,
   "id": "2abbd3cd",
   "metadata": {},
   "outputs": [],
   "source": [
    "# domain mean thermodynamci:\n",
    "# compute the virtual liquid static energy:\n",
    "# note that Lv and Cp are set to the same value as used in the SAM model.\n",
    "Lv = 2.5104*10**6\n",
    "mu = 0.93\n",
    "Cp = 1003.5\n",
    "ds_stat['Svl'] = ds_stat.MSE - mu*Lv*(ds_stat.QT/1000)/Cp\n"
   ]
  },
  {
   "cell_type": "code",
   "execution_count": 8,
   "id": "dbe76a44",
   "metadata": {},
   "outputs": [
    {
     "data": {
      "image/png": "[encoded data removed]",
      "text/plain": [
       "<Figure size 720x576 with 1 Axes>"
      ]
     },
     "metadata": {
      "needs_background": "light"
     },
     "output_type": "display_data"
    }
   ],
   "source": [
    "# domain mean thermodynamics:\n",
    "# make the evolution in an animation:\n",
    "# source of reference: https://jakevdp.github.io/blog/2012/08/18/matplotlib-animation-tutorial/\n",
    "\n",
    "from IPython.display import HTML\n",
    "\n",
    "# first set up the figure, the axis, and the plot element\n",
    "fig, ax = plt.subplots(figsize=(10,8))\n",
    "ax.set_xlim((290,310))\n",
    "ax.set_ylim((320,340))\n",
    "line1,  = ax.plot([],[], lw =2,color='b')\n",
    "line2, = ax.plot([],[], lw=2, color='r')\n",
    "line3, = ax.plot([],[],linestyle='--', color='b')\n",
    "line4, = ax.plot([],[],linestyle='--', color='r')\n",
    "ax.set_xlabel('S_{vl}/C_p (K)')\n",
    "ax.set_ylabel('MSE/C_p (K)')\n",
    "titlestr = ax.set_title('')\n",
    "ax.legend(['initial','evolving'])\n",
    "ax.grid(True)\n",
    "\n"
   ]
  },
  {
   "cell_type": "code",
   "execution_count": 9,
   "id": "63fcd91b",
   "metadata": {},
   "outputs": [],
   "source": [
    "def init():\n",
    "    line1.set_data([],[])\n",
    "    line2.set_data([],[])\n",
    "    line3.set_data([],[])\n",
    "    line4.set_data([],[])\n",
    "    return (line1, line2,line3, line4,  \n",
    "             )\n",
    "\n",
    "# example function for animation:\n",
    "# def animate(i):\n",
    "#     x = np.linspace(0,2,1000)\n",
    "#     y = np.sin(2*np.pi * (x-0.01*i))\n",
    "#     line.set_data(x,y)\n",
    "#     return (line,)\n",
    "\n",
    "\n",
    "# \n",
    "def animate_Paluch(i):\n",
    "    #fig, ax = plt.subplots(1,1, figsize=(10,10))\n",
    "    ds_sub = ds_stat.where(ds_stat.z<ds_stat.ZINV[0]*1000, drop=True)\n",
    "    # initial:\n",
    "    x0 = ds_sub.Svl[0,:]\n",
    "    y0 = ds_sub.MSE[0, :]\n",
    "    line1.set_data(x0, y0)\n",
    "   \n",
    "\n",
    "   # work around #2: create a finer vertical levels from 0 to ZINV. \n",
    "    z_fine= np.linspace(ds_stat.z[0], ds_stat.ZINV[i]*1000, 300)\n",
    "    f_MSE = interpolate.interp1d(ds_stat.z, ds_stat.MSE[i,:])\n",
    "    f_Svl = interpolate.interp1d(ds_stat.z, ds_stat.Svl[i,:])\n",
    "    yi = f_MSE(z_fine)\n",
    "    xi = f_Svl(z_fine)\n",
    "    \n",
    "    line2.set_data(xi, yi)\n",
    "    \n",
    "    line3.set_data([x0[0], x0[-1]], [y0[0], y0[-1]])\n",
    "    line4.set_data([xi[0], xi[-1]], [yi[0], yi[-1]])\n",
    "    \n",
    "    dt = (ds_sub.time[i]-ds_sub.time[0])*24.0\n",
    "    titlestr.set_text('Time {1:d} = {0:.2f} th hour '.format(dt.values, i))\n",
    "    \n",
    "    #ax.plot(ds_sub2.Svl[i,:], ds_sub2.MSE[i, :],color='r')\n",
    "    #ax.plot([ds_sub2.Svl[i,0], ds_sub2.Svl[i,-1]], [ds_sub2.MSE[i,0], ds_sub2.MSE[i,-1]],\n",
    "#            linestyle='--', color='r')\n",
    "     \n",
    "#     ax.set_title('time:' + \"{:.2f}\".format(dt.values) + 'th hr')\n",
    "#     ax.grid(grid)\n",
    "#     ax.set_ylim(320, 340)\n",
    "#     ax.set_xlim(290, 310)\n",
    "   \n",
    "    return(line1, line2, line3, line4,)\n",
    " \n",
    "\n",
    "\n"
   ]
  },
  {
   "cell_type": "code",
   "execution_count": 10,
   "id": "b8b684c7",
   "metadata": {},
   "outputs": [],
   "source": [
    "# frame = number of snapshots, interval = milliseconds delayed between the two frames (default=200).\n",
    "anim =animation.FuncAnimation(fig, animate_Paluch, init_func=init, frames=range(len(ds_stat.time)), interval=100, blit=True)\n"
   ]
  },
  {
   "cell_type": "code",
   "execution_count": null,
   "id": "fc65b830",
   "metadata": {},
   "outputs": [],
   "source": [
    "# this will take a while...\n",
    "HTML(anim.to_html5_video())"
   ]
  },
  {
   "cell_type": "code",
   "execution_count": null,
   "id": "ebf2ba69",
   "metadata": {},
   "outputs": [],
   "source": [
    "f = r\"/home/xchen/jupyter_notebook/LES/BB2017_analysis/output/control_MSE_Svl_Evolution_\" + testcase_label +\".mp4\" \n",
    "writervideo = animation.FFMpegWriter(fps=5) \n",
    "anim.save(f, writer=writervideo)"
   ]
  },
  {
   "cell_type": "markdown",
   "id": "d7415b94",
   "metadata": {},
   "source": [
    "From here on, the plots are made at the 36th hours in the simulations."
   ]
  },
  {
   "cell_type": "code",
   "execution_count": 11,
   "id": "e751599c",
   "metadata": {},
   "outputs": [
    {
     "name": "stdout",
     "output_type": "stream",
     "text": [
      "cntrl\n",
      "noPCP\n",
      "RADhomo\n",
      "RADFLXhomo\n",
      "RFhomoNoPCP\n",
      "WTG\n"
     ]
    }
   ],
   "source": [
    "# plot the curve at 36 hours from different sensitivity runs:\n",
    "# 1. loop through the dictionary\n",
    "#   - read data;\n",
    "#.  - find the profiles at 36th hour \n",
    "#   - save the results for different cases into a dictionary\n",
    "# 2. make plots\n",
    "\n",
    "hr=36\n",
    "ds=dict()\n",
    "MSE_tc=dict()\n",
    "Svl_tc=dict()\n",
    "cnt = 0\n",
    "for k in filenames:\n",
    "   \n",
    "    print(k)\n",
    "    # read data:\n",
    "    absfn= os.path.join(datadir, folder3, filenames[k])\n",
    "    ds_tmp = xr.open_dataset(absfn)\n",
    "    \n",
    "    # compute Svl from MSE\n",
    "    Lv = 2.5104*10**6\n",
    "    mu = 0.93\n",
    "    Cp = 1003.5\n",
    "    ds_tmp['Svl'] = ds_tmp.MSE - mu*Lv*(ds_tmp.QT/1000)/Cp    \n",
    "    \n",
    "    \n",
    "    if cnt==0:\n",
    "        dz=ds_tmp.z-ds_tmp.ZINV[0]*1000\n",
    "        zid= np.where(abs(dz)==np.min(abs(dz)))\n",
    "        ds_sub = ds_tmp.where(ds_tmp.z<=ds_tmp.z[zid].values, drop=True)\n",
    "        MSE_t0 = ds_sub.MSE[0,:]\n",
    "        Svl_t0 = ds_sub.Svl[0,:]\n",
    "    \n",
    "    \n",
    "    dt = ds_tmp.time - (ds_tmp.time[0]+hr/24.0)\n",
    "    it = np.where(abs(dt)==np.min(abs(dt)))[0]\n",
    "#     if it>=len(ds_tmp.time):\n",
    "#         it=-1\n",
    "        \n",
    "    \n",
    "    # get the profiles of interest at 36th hour:\n",
    "    z_fine= np.linspace(ds_tmp.z[0], ds_tmp.ZINV[it]*1000, 300)\n",
    "    f_MSE = interpolate.interp1d(ds_tmp.z, ds_tmp.MSE[it,:])\n",
    "    f_Svl = interpolate.interp1d(ds_tmp.z, ds_tmp.Svl[it,:])\n",
    "    MSE_tc[k] = f_MSE(z_fine)\n",
    "    Svl_tc[k] = f_Svl(z_fine)\n",
    "    \n",
    "    ds_tmp.close()\n",
    "    \n",
    "    cnt += 1\n",
    "    \n"
   ]
  },
  {
   "cell_type": "code",
   "execution_count": 12,
   "id": "2b6ba155",
   "metadata": {},
   "outputs": [
    {
     "data": {
      "image/png": "[encoded data removed]",
      "text/plain": [
       "<Figure size 720x576 with 1 Axes>"
      ]
     },
     "metadata": {
      "needs_background": "light"
     },
     "output_type": "display_data"
    }
   ],
   "source": [
    "# make plot here to summarize the changes in the curve with the different physical processes activated (or deactivated)\n",
    "fig03, axes03=plt.subplots(1,1, figsize=(10,8))\n",
    "ii=0\n",
    "lgdstr=[None]*6\n",
    "lncolor=[None]*6\n",
    "for k in MSE_tc:    \n",
    "    if ii<=4:\n",
    "        ln,=axes03.plot(Svl_tc[k][0], MSE_tc[k][0])\n",
    "        lncolor[ii]=ln.get_color()\n",
    "        axes03.plot([Svl_tc[k][0][0], Svl_tc[k][0][-1]],[MSE_tc[k][0][0], MSE_tc[k][0][-1]],\n",
    "                              linestyle='--', color=lncolor[ii], label='_nolegend_')\n",
    "        axes03.set_xlabel('S_{vl}/C_p (K)')\n",
    "        axes03.set_ylabel('MSE/C_p (K)')\n",
    "        lgdstr[ii]=k\n",
    "        axes03.legend(lgdstr)\n",
    "        axes03.grid(True)\n",
    "        axes03.set_ylim([320, 340])\n",
    "        axes03.set_xlim([290, 310])\n",
    "    \n",
    "    ii += 1\n"
   ]
  },
  {
   "cell_type": "markdown",
   "id": "337a977e",
   "metadata": {},
   "source": [
    "Here, I plotted the thermodynmaic profiles at 36th hour in each sensitivity simulations shared by Peter. \n",
    "Eliminating different physical processes changes the curvature of the line, which is associated with the thermodynamic  properties higher up closer to the inversion height. \n",
    "\n",
    "In the control case, where all the physicall processes are activated (rain, interactive radiative and surface flux feedback), the two conserved variables (or moisture and temperature) in this diagram is more linear related, and their relationship behaves closer to the mixing line. \n",
    "\n",
    "When the precipitation is shut down (noPCP, orange), the slope of the mixing line is steepened (absolute value of the slope is increased, large change of moisture per unit Tvl), area of concavity increases a bit from the control.\n",
    "\n",
    "If the radiative heating rate is horizontally homogenized (green) but still rain, the increase in the slope of the mixing line is larger than in the noPCP case.  The difference of concavity area from the control case remains similar as in the noPCP case. \n",
    "\n",
    "Now when the response of surface fluxes to aggregation is also homogenized horizontally on top of the RADhomo case, the thermodynamic properties near the cloud top change further and the concave area further increases.\n",
    "\n",
    "Further shutting off precipitation from the RADFLXhomo does not change the overall behavior of the MSE-Svl curve or the mixing line significantly.\n",
    "\n",
    "It seems to me that the inhomogenized surface flux response quite significant contribution to the curvature change in the MSE-Svl diagram..\n"
   ]
  },
  {
   "cell_type": "code",
   "execution_count": null,
   "id": "4ba03718",
   "metadata": {},
   "outputs": [],
   "source": [
    "f = r\"/home/xchen/jupyter_notebook/LES/BB2017_analysis/output/MSE_Svl_different_simulations_36th.jpg\"\n",
    "fig03.savefig(f)"
   ]
  },
  {
   "cell_type": "code",
   "execution_count": 13,
   "id": "a23a420d",
   "metadata": {},
   "outputs": [
    {
     "data": {
      "image/png": "[encoded data removed]",
      "text/plain": [
       "<Figure size 720x576 with 6 Axes>"
      ]
     },
     "metadata": {
      "needs_background": "light"
     },
     "output_type": "display_data"
    }
   ],
   "source": [
    "fig03, axes03=plt.subplots(2,3, figsize=(10,8))\n",
    "axes_col = axes03.reshape(-1)\n",
    "ii=0\n",
    "lgdstr=[None]*6\n",
    "\n",
    "for k in MSE_tc:    \n",
    "    ln,=axes_col[ii].plot(Svl_tc[k][0], MSE_tc[k][0],color=lncolor[ii])\n",
    "    #lncolor=ln.get_color()\n",
    "    axes_col[ii].plot([Svl_tc[k][0][0], Svl_tc[k][0][-1]],[MSE_tc[k][0][0], MSE_tc[k][0][-1]],\n",
    "                          linestyle='--', color=lncolor[ii], label='_nolegend_')\n",
    "    lgdstr[ii]=k\n",
    "    axes_col[ii].set_title(k)\n",
    "    axes_col[ii].grid(True)\n",
    "    #axes_col[ii].legend(lgdstr)\n",
    "    \n",
    "    axes_col[ii].set_ylim([320, 340])\n",
    "    axes_col[ii].set_xlim([300, 310])\n",
    "    ii += 1"
   ]
  },
  {
   "cell_type": "markdown",
   "id": "c47cf1d2",
   "metadata": {},
   "source": [
    "WTG approximation seems like a reasonable representation of the control case. \n"
   ]
  },
  {
   "cell_type": "code",
   "execution_count": null,
   "id": "f63acbd6",
   "metadata": {},
   "outputs": [],
   "source": [
    "f = r\"/home/xchen/jupyter_notebook/LES/BB2017_analysis/output/MSE_Svl_different_simulations_36th_separated.jpg\"\n",
    "fig03.savefig(f)"
   ]
  },
  {
   "cell_type": "markdown",
   "id": "2946fb3b",
   "metadata": {},
   "source": [
    "Using widgets to adjust the time index to look through profiles in the simulation."
   ]
  },
  {
   "cell_type": "code",
   "execution_count": 14,
   "id": "2c64bb7d",
   "metadata": {},
   "outputs": [
    {
     "data": {
      "application/vnd.jupyter.widget-view+json": {
       "model_id": "d9be7379dabc4df68848eda5fc4297b2",
       "version_major": 2,
       "version_minor": 0
      },
      "text/plain": [
       "interactive(children=(IntSlider(value=200, description='it', max=216, step=6), Output()), _dom_classes=('widge…"
      ]
     },
     "metadata": {},
     "output_type": "display_data"
    }
   ],
   "source": [
    "# interactively check where the inversion height is.\n",
    "@widgets.interact(it=(0, len(ds_stat.ZINV),6))\n",
    "def check_inv_loc(it=200):\n",
    "    # check to see if the inversion height is at the maximum temperature gradient.\n",
    "    zmask=ds_stat.z<4000\n",
    "    gradT=np.gradient(ds_stat.THETAL[it,zmask])\n",
    "    gradQ=np.gradient(ds_stat.QV[it,zmask])\n",
    "    zinv_g=np.where(gradT==np.max(gradT))\n",
    "    plt.plot(gradT, ds_stat.z[zmask])\n",
    "    plt.plot(gradQ, ds_stat.z[zmask])\n",
    "    plt.plot([-1,5],[ds_stat.ZINV[it]*1000,ds_stat.ZINV[it]*1000],linestyle='--')\n",
    "    plt.legend(['gradT','gradQ','diagnosed ZINV'])\n",
    "    plt.show()"
   ]
  },
  {
   "cell_type": "code",
   "execution_count": null,
   "id": "9aea3015",
   "metadata": {},
   "outputs": [],
   "source": [
    "# another thing to check is that: is the ZINV correspond to the real inversion height produced from the model?\n",
    "it=200\n",
    "@widgets.interact(it=(0, len(ds_stat.ZINV),6))\n",
    "def check_domain_mean_parms(it=200):\n",
    "    fig01, axes = plt.subplots(2,2,figsize=(10,10))\n",
    "    # thetaL: liquid water potential temperature\n",
    "    axes[0,0].plot(ds_stat.THETAL[it,:], ds_stat.z)\n",
    "    axes[0,0].plot([290, 320],[ds_stat.ZINV[it]*1000, ds_stat.ZINV[it]*1000], \n",
    "                  linestyle='--')\n",
    "    axes[0,0].set_ylim(0, ds_stat.ZINV[it]*1000*1.5)\n",
    "    axes[0,0].set_xlim(290, 320)\n",
    "    axes[0,0].set_title(ds_stat.THETAL.long_name)\n",
    "    axes[0,0].set_ylabel(ds_stat.z.long_name)\n",
    "    axes[0,0].set_xlabel('theta_l (K)')\n",
    "    axes[0,0].grid(True)\n",
    "\n",
    "\n",
    "    # qv: water vapor mixing ratio\n",
    "    axes[0,1].plot(ds_stat.QV[it,:], ds_stat.z)\n",
    "    axes[0,1].plot([0, 16],[ds_stat.ZINV[it]*1000, ds_stat.ZINV[it]*1000], \n",
    "                  linestyle='--')\n",
    "    axes[0,1].set_ylim(0, ds_stat.ZINV[it]*1000*1.5)\n",
    "    axes[0,1].set_xlim(0, 16)\n",
    "    axes[0,1].set_title(ds_stat.QV.long_name)\n",
    "    #axes[0,0].set_ylabel(ds_stat.z.long_name)\n",
    "    axes[0,1].set_xlabel('q_v (g/kg)')\n",
    "    axes[0,1].grid(True)\n",
    "    \n",
    "    \n",
    "    # U: zonal wind\n",
    "    axes[1,0].plot(ds_stat.U[it,:], ds_stat.z)\n",
    "    axes[1,0].plot(ds_stat.UOBS[it,:], ds_stat.z,linestyle='--',color='g')\n",
    "    axes[1,0].plot([-15, 15],[ds_stat.ZINV[it]*1000, ds_stat.ZINV[it]*1000], \n",
    "                  linestyle='--')\n",
    "    axes[1,0].set_ylim(0, ds_stat.ZINV[it]*1000*1.5)\n",
    "    axes[1,0].set_xlim(-15, 15)\n",
    "    axes[1,0].set_title(ds_stat.U.long_name)\n",
    "    #axes[0,0].set_ylabel(ds_stat.z.long_name)\n",
    "    axes[1,0].set_xlabel('U (m/s)')\n",
    "    axes[1,0].grid(True)\n",
    "    axes[1,0].legend(['U','UOBS'])\n",
    "    \n",
    "    \n",
    "    # V: zonal wind\n",
    "    axes[1,1].plot(ds_stat.V[it,:], ds_stat.z)\n",
    "    axes[1,1].plot(ds_stat.VOBS[it,:], ds_stat.z,linestyle='--',color='g')\n",
    "    axes[1,1].plot([-15, 15],[ds_stat.ZINV[it]*1000, ds_stat.ZINV[it]*1000], \n",
    "                  linestyle='--')\n",
    "    axes[1,1].set_ylim(0, ds_stat.ZINV[it]*1000*1.5)\n",
    "    axes[1,1].set_xlim(-15, 15)\n",
    "    axes[1,1].set_title(ds_stat.V.long_name)\n",
    "    #axes[0,0].set_ylabel(ds_stat.z.long_name)\n",
    "    axes[1,1].set_xlabel('V (m/s)')\n",
    "    axes[1,1].grid(True)\n",
    "    axes[1,1].legend(['V','VOBS'])\n",
    "    \n",
    "    plt.show()\n",
    "\n",
    "\n",
    "# wind field:\n"
   ]
  },
  {
   "cell_type": "code",
   "execution_count": null,
   "id": "a7f257de",
   "metadata": {},
   "outputs": [],
   "source": [
    "@widgets.interact(i=(0,len(ds_stat.ZINV),10))\n",
    "def test(i=10):\n",
    "    dz=ds_stat.z-ds_stat.ZINV[i]*1000\n",
    "    test=ds_stat.where(abs(ds_stat.z-ds_stat.ZINV[i]*1000)==np.min(abs(dz)), drop=True)\n",
    "    print(ds_stat.ZINV[i].values*1000)\n",
    "    print(test.z[-1].values)\n",
    "    plt.plot(ds_stat.time, ds_stat.ZINV*1000)\n",
    "    #plt.plot(ds_stat.time[1]*np.ones(len(ds_stat.z)), ds_stat.z,marker='.')\n",
    "    plt.plot(ds_stat.time[i],test.z[-1],marker='*')\n",
    "    plt.show()\n",
    "\n"
   ]
  },
  {
   "cell_type": "code",
   "execution_count": null,
   "id": "a203e704",
   "metadata": {},
   "outputs": [],
   "source": [
    "# Test work around # 1:\n",
    "z_trunc=[None]*len(ds_stat.ZINV)\n",
    "for i in range(len(ds_stat.ZINV)):\n",
    "    dz=ds_stat.z-ds_stat.ZINV[i]*1000\n",
    "    test= np.where(abs(dz)==np.min(abs(dz)))   \n",
    "    z_trunc[i]=ds_stat.z[test].values\n",
    "#     print(ds_stat.ZINV[i].values*1000)\n",
    "#     print(test.z[-1].values)\n"
   ]
  },
  {
   "cell_type": "code",
   "execution_count": null,
   "id": "76e70f67",
   "metadata": {},
   "outputs": [],
   "source": [
    "#plt.plot(ds_stat.time[1]*np.ones(len(ds_stat.z)), ds_stat.z,marker='.')\n",
    "plt.plot(ds_stat.time,z_trunc,marker='*')\n",
    "plt.plot(ds_stat.time, ds_stat.ZINV*1000,linewidth=3)\n",
    "plt.title('inversion height versus the top of the sliced profiles')\n",
    "plt.legend(['model level closest to the inversion height','ZINV'])\n",
    "plt.show()\n",
    "plt.savefig()"
   ]
  },
  {
   "cell_type": "markdown",
   "id": "2be90573",
   "metadata": {},
   "source": [
    "work around #1 will still produce jumpiness because the discrete nature of the vertical levels in the LES model\n",
    "The solution is to interpolate the LES vertical profiles of MSE and $S_{vl}$ to the exact inversion height which is a smooth curve. "
   ]
  },
  {
   "cell_type": "code",
   "execution_count": null,
   "id": "171b4a98",
   "metadata": {},
   "outputs": [],
   "source": [
    "# Test work around #2:\n",
    "i = 10\n",
    "# work around #2: create a finer vertical levels from 0 to ZINV. \n",
    "z_fine= np.linspace(ds_stat.z[0], ds_stat.ZINV[i]*1000, 300)\n",
    "f_MSE = interpolate.interp1d(ds_stat.z, ds_stat.MSE[i,:])\n",
    "f_Svl = interpolate.interp1d(ds_stat.z, ds_stat.Svl[i,:])\n",
    "MSE_subfine = f_MSE(z_fine)\n",
    "Svl_subfine = f_Svl(z_fine)\n",
    "\n",
    "# plot out interpolation result to confirm:\n",
    "plt.plot(ds_stat.MSE[i,:], ds_stat.z, color='b')\n",
    "plt.plot(MSE_subfine, z_fine, color='r', linestyle=None, marker='o')\n",
    "plt.ylim(0,3000)\n",
    "\n",
    "plt.plot(ds_stat.Svl[i,:], ds_stat.z, color='b',linestyle='--')\n",
    "plt.plot(Svl_subfine, z_fine, color='r', linestyle='--', marker='o')\n",
    "plt.ylim(0,3000)\n"
   ]
  },
  {
   "cell_type": "code",
   "execution_count": null,
   "id": "c4613d91",
   "metadata": {},
   "outputs": [],
   "source": [
    "def plot(i=10, grid=True):\n",
    "    fig, ax = plt.subplots(1,1, figsize=(10,10))\n",
    "    \n",
    "    ds_sub = ds_stat.where(ds_stat.z<=ds_stat.ZINV[0]*1000, drop=True)\n",
    "    # initial:\n",
    "    ax.plot(ds_sub.Svl[0,:], ds_sub.MSE[0, :],color='b')\n",
    "    ax.plot([ds_sub.Svl[0,0], ds_sub.Svl[0,-1]], [ds_sub.MSE[0,0], ds_sub.MSE[0,-1]],\n",
    "           linestyle='--', color='b')\n",
    "    \n",
    "    # work around #2: create a finer vertical levels from 0 to ZINV. \n",
    "    z_fine= np.linspace(ds_stat.z[0], ds_stat.ZINV[i]*1000, 300)\n",
    "    f_MSE = interpolate.interp1d(ds_stat.z, ds_stat.MSE[i,:])\n",
    "    f_Svl = interpolate.interp1d(ds_stat.z, ds_stat.Svl[i,:])\n",
    "    MSE_subfine = f_MSE(z_fine)\n",
    "    Svl_subfine = f_Svl(z_fine)\n",
    "\n",
    "    \n",
    "    ax.plot(Svl_subfine, MSE_subfine,color='r')\n",
    "    ax.plot([Svl_subfine[0], Svl_subfine[-1]], [MSE_subfine[0], MSE_subfine[-1]],\n",
    "           linestyle='--', color='r')\n",
    "    dt = (ds_sub.time[i]-ds_sub.time[0])*24.0\n",
    "    ax.set_title('time:' + \"{:.2f}\".format(dt.values) + 'th hr')\n",
    "    ax.grid(grid)\n",
    "    ax.set_ylim(320, 340)\n",
    "    ax.set_xlim(290, 310)\n",
    "    plt.show()\n",
    " \n"
   ]
  },
  {
   "cell_type": "code",
   "execution_count": null,
   "id": "e57bd190",
   "metadata": {},
   "outputs": [],
   "source": [
    "widgets.interact(plot, i=(0,len(ds_stat.ZINV),6))\n"
   ]
  },
  {
   "cell_type": "code",
   "execution_count": null,
   "id": "81c0cd90",
   "metadata": {},
   "outputs": [],
   "source": []
  },
  {
   "cell_type": "code",
   "execution_count": null,
   "id": "cfd2f4ef",
   "metadata": {},
   "outputs": [],
   "source": [
    "# very first trial\n",
    "# for i in range(len(ds_stat.ZINV)):\n",
    "#     ds_sub = ds_stat.where(ds_stat.z<ds_stat.ZINV[0]*1000, drop=True)\n",
    "#     fig,ax=plt.subplots(1,1,)\n",
    "#     ax.plot(ds_sub.DSE[0,:], ds_sub.MSE[0, :],color='b')\n",
    "#     ax.plot([ds_sub.DSE[0,0], ds_sub.DSE[0,-1]], [ds_sub.MSE[0,0], ds_sub.MSE[0,-1]],\n",
    "#            linestyle='--', color='b')\n",
    "\n",
    "#     ds_sub2 = ds_stat.where(ds_stat.z<ds_stat.ZINV[i]*1000, drop=True)\n",
    "#     ax.plot(ds_sub2.DSE[i,:], ds_sub2.MSE[i, :],color='r')\n",
    "#     ax.plot([ds_sub2.DSE[i,0], ds_sub2.DSE[i,-1]], [ds_sub2.MSE[i,0], ds_sub2.MSE[i,-1]],\n",
    "#            linestyle='--', color='r')\n",
    "    "
   ]
  }
 ],
 "metadata": {
  "kernelspec": {
   "display_name": "Python 3 (ipykernel)",
   "language": "python",
   "name": "python3"
  },
  "language_info": {
   "codemirror_mode": {
    "name": "ipython",
    "version": 3
   },
   "file_extension": ".py",
   "mimetype": "text/x-python",
   "name": "python",
   "nbconvert_exporter": "python",
   "pygments_lexer": "ipython3",
   "version": "3.8.10"
  }
 },
 "nbformat": 4,
 "nbformat_minor": 5
}
