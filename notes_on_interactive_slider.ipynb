{
 "cells": [
  {
   "cell_type": "markdown",
   "id": "7385c74e",
   "metadata": {},
   "source": [
    "1. install the ipywidgets:\n",
    "\n",
    "_**pip install ipywidgets**_"
   ]
  },
  {
   "cell_type": "markdown",
   "id": "0b16a233",
   "metadata": {},
   "source": [
    "2. installing **ipywidgets** in jupyter notebook:\n",
    "\n",
    "_**jupyter nbextension enable --py widgetsnbextension**_\n",
    "\n",
    "The above command works for me, but this [reference page](https://ipywidgets.readthedocs.io/en/latest/user_install.html) discussed some complexities in case that happens to you."
   ]
  },
  {
   "cell_type": "markdown",
   "id": "506ef12a",
   "metadata": {},
   "source": [
    "3. the code snippet:"
   ]
  },
  {
   "cell_type": "code",
   "execution_count": 1,
   "id": "76955059",
   "metadata": {},
   "outputs": [
    {
     "data": {
      "application/vnd.jupyter.widget-view+json": {
       "model_id": "c918f7fc49424ffe981212b8558b690f",
       "version_major": 2,
       "version_minor": 0
      },
      "text/plain": [
       "interactive(children=(IntSlider(value=1, description='i', max=10), Output()), _dom_classes=('widget-interact',…"
      ]
     },
     "metadata": {},
     "output_type": "display_data"
    }
   ],
   "source": [
    "import numpy as np\n",
    "import matplotlib.pyplot as plt\n",
    "\n",
    "# for the slider:\n",
    "import ipywidgets as widgets\n",
    "from IPython.display import display\n",
    "\n",
    "# Example: draw a circle with different radius\n",
    "R = range(0,10,1)\n",
    "@widgets.interact(i=(0,len(R)))\n",
    "def circle(i=1):\n",
    "    theta = np.linspace(0, 2*np.pi, 100)\n",
    "    y = R[i]*np.sin(theta)\n",
    "    x = R[i]*np.cos(theta)\n",
    "    \n",
    "    fig, ax = plt.subplots(1,1, figsize=(8,8))\n",
    "    ax.plot(x,y)\n",
    "    ax.set_xlim(-10,10)\n",
    "    ax.set_ylim(-10,10)\n",
    "    ax.grid(True)\n",
    "    \n",
    "    plt.show()  # use plt.show() to refresh the figure without producing separate figures."
   ]
  },
  {
   "cell_type": "code",
   "execution_count": 2,
   "id": "18d66560",
   "metadata": {},
   "outputs": [
    {
     "data": {
      "application/vnd.jupyter.widget-view+json": {
       "model_id": "3df9f1be99144f6f8d6f59e918c61f13",
       "version_major": 2,
       "version_minor": 0
      },
      "text/plain": [
       "interactive(children=(IntSlider(value=1, description='i', max=10), Output()), _dom_classes=('widget-interact',…"
      ]
     },
     "metadata": {},
     "output_type": "display_data"
    }
   ],
   "source": [
    "# another way to achieve this:\n",
    "# first define a function as above without putting the line \"@widgets.interact()\" before it.\n",
    "\n",
    "# then call \"interactive\" instead, and feed in the function and set the interactive index   \n",
    "widgets.interactive(circle,\n",
    "                    i=(0,len(R))\n",
    "                   )"
   ]
  },
  {
   "cell_type": "code",
   "execution_count": null,
   "id": "e7c7a0b0",
   "metadata": {},
   "outputs": [],
   "source": []
  }
 ],
 "metadata": {
  "kernelspec": {
   "display_name": "Python 3 (ipykernel)",
   "language": "python",
   "name": "python3"
  },
  "language_info": {
   "codemirror_mode": {
    "name": "ipython",
    "version": 3
   },
   "file_extension": ".py",
   "mimetype": "text/x-python",
   "name": "python",
   "nbconvert_exporter": "python",
   "pygments_lexer": "ipython3",
   "version": "3.8.10"
  }
 },
 "nbformat": 4,
 "nbformat_minor": 5
}
